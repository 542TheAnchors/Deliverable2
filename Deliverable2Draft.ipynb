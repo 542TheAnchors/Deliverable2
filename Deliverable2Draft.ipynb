{
 "cells": [
  {
   "cell_type": "code",
   "execution_count": 1,
   "id": "b0a7def7",
   "metadata": {},
   "outputs": [],
   "source": [
    "import pandas as pd\n",
    "\n",
    "# files\n",
    "exportsfile=\"exports.csv\"\n",
    "importslfile=\"imports.csv\"\n",
    "oilexportsfile=\"oilexports.csv\"\n",
    "oilimportsfile=\"oilimports.csv\"\n",
    "consumptionfile=\"consumption.csv\"\n",
    "carbonfile=\"carbon.csv\"\n",
    "industryfile=\"industry.csv\"\n",
    "revcoalfile=\"revcoal.csv\"\n",
    "revforestfile=\"revforest.csv\"\n",
    "\n",
    "# fetching tables\n",
    "exports=pd.read_csv(exportsfile)\n",
    "imports=pd.read_csv(importsfile)\n",
    "oilexports=pd.read_csv(oilexportsfile)\n",
    "oilimports=pd.read_csv(oilimportsfile)\n",
    "consumption=pd.read_csv(consumptionfile)\n",
    "carbon=pd.read_csv(carbonfile)\n",
    "industry=pd.read_csv(industryfile)\n",
    "revcoal=pd.read_csv(revcoalfile)\n",
    "revforest=pd.read_csv(revforestfile)"
   ]
  },
  {
   "cell_type": "code",
   "execution_count": null,
   "id": "29c91ea7",
   "metadata": {},
   "outputs": [],
   "source": []
  }
 ],
 "metadata": {
  "kernelspec": {
   "display_name": "Python 3 (ipykernel)",
   "language": "python",
   "name": "python3"
  },
  "language_info": {
   "codemirror_mode": {
    "name": "ipython",
    "version": 3
   },
   "file_extension": ".py",
   "mimetype": "text/x-python",
   "name": "python",
   "nbconvert_exporter": "python",
   "pygments_lexer": "ipython3",
   "version": "3.9.13"
  }
 },
 "nbformat": 4,
 "nbformat_minor": 5
}
