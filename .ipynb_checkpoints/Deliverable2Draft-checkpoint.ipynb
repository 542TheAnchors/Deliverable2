{
 "cells": [
  {
   "cell_type": "code",
   "execution_count": 1,
   "id": "4e3a2265",
   "metadata": {},
   "outputs": [],
   "source": [
    "import pandas as pd\n",
    "\n",
    "# files\n",
    "exportsfile=\"exports.csv\"\n",
    "importslfile=\"imports.csv\"\n",
    "oilexportsfile=\"oilexports.csv\"\n",
    "oilimportsfile=\"oilimports.csv\"\n",
    "consumptionfile=\"consumption.csv\"\n",
    "coalrevfile=\"revcoal.csv\"\n",
    "forestrevfile=\"revforest.csv\"\n",
    "carbonfile=\"carbon.csv\"\n",
    "#fetching tables\n",
    "# fetching the tables\n",
    "exports=pd.read_csv(exportsfile)\n",
    "imports=pd.read_csv(importsfile)\n",
    "oilexports=pd.read_csv(oilexportsfile)\n",
    "oilimports=pd.read_csv(oilimportsfile)\n",
    "consumption=pd.read_csv(consumptionfile)"
   ]
  },
  {
   "cell_type": "code",
   "execution_count": null,
   "id": "0b8b1344",
   "metadata": {},
   "outputs": [],
   "source": []
  }
 ],
 "metadata": {
  "kernelspec": {
   "display_name": "Python 3 (ipykernel)",
   "language": "python",
   "name": "python3"
  },
  "language_info": {
   "codemirror_mode": {
    "name": "ipython",
    "version": 3
   },
   "file_extension": ".py",
   "mimetype": "text/x-python",
   "name": "python",
   "nbconvert_exporter": "python",
   "pygments_lexer": "ipython3",
   "version": "3.10.8"
  }
 },
 "nbformat": 4,
 "nbformat_minor": 5
}
